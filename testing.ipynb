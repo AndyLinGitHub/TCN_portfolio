{
 "cells": [
  {
   "cell_type": "markdown",
   "id": "dad768ed-2110-43c7-94a3-8c2e84081942",
   "metadata": {},
   "source": [
    "# Import Modules"
   ]
  },
  {
   "cell_type": "code",
   "execution_count": 1,
   "id": "2500e6b3-a44f-4877-8af1-4dc83ad110fb",
   "metadata": {},
   "outputs": [],
   "source": [
    "import os\n",
    "import random\n",
    "import pickle\n",
    "import importlib\n",
    "import argparse\n",
    "\n",
    "import numpy as np\n",
    "import pandas as pd\n",
    "import datetime\n",
    "import matplotlib.pyplot as plt\n",
    "import seaborn as sns\n",
    "import torch"
   ]
  },
  {
   "cell_type": "code",
   "execution_count": 2,
   "id": "bc6892da-7b33-491f-a44a-48718cc4c807",
   "metadata": {},
   "outputs": [],
   "source": [
    "import config\n",
    "import model\n",
    "import utility"
   ]
  },
  {
   "cell_type": "markdown",
   "id": "c063aaab-2ba5-48cc-b96f-c49ae8022475",
   "metadata": {},
   "source": [
    "# Set Random Seed"
   ]
  },
  {
   "cell_type": "code",
   "execution_count": 3,
   "id": "62501070-f0cc-4ad3-ae85-0237bf4978d3",
   "metadata": {},
   "outputs": [],
   "source": [
    "def set_seed(seed):\n",
    "    torch.manual_seed(seed)\n",
    "    torch.cuda.manual_seed_all(seed)\n",
    "    np.random.seed(seed)\n",
    "    random.seed(seed)\n",
    "\n",
    "set_seed(42)"
   ]
  },
  {
   "cell_type": "markdown",
   "id": "2f610afb-334e-4bd2-940c-ad3fb92c57e9",
   "metadata": {},
   "source": [
    "# Testing"
   ]
  },
  {
   "cell_type": "code",
   "execution_count": 6,
   "id": "434e82da-7b62-4db4-b4e7-59cea6cc0c5b",
   "metadata": {},
   "outputs": [],
   "source": [
    "configs = config.configs\n",
    "\n",
    "#load data\n",
    "binance_swaps = pd.read_csv(os.path.join(\"data\", \"binance_swaps.csv\"), index_col=0)\n",
    "binance_swaps_return = (binance_swaps/binance_swaps.shift(1) - 1)[1:]\n",
    "binance_swaps_return.index = pd.to_datetime(binance_swaps_return.index)\n",
    "with open(os.path.join(\"data\", \"weekly_crypto_top20.pkl\"), 'rb') as f:\n",
    "    weekly_crypto_top20 = pickle.load(f)\n",
    "\n",
    "#Prepare training, validation, and testing periods and tickers for each week.\n",
    "stables = {\"BUSD\", \"USDC\", \"UST\", \"DAI\", \"TUSD\", \"USDT\"}\n",
    "cexs = {\"FTT\", \"BNB\", \"HT\", \"OKB\", \"CRO\", \"LEO\"}\n",
    "not_listed = {\"WBTC\", \"TON\"}\n",
    "name_changed = {\"SHIB\": \"1000SHIB\"}\n",
    "remove = stables | cexs | not_listed\n",
    "setting_list = []\n",
    "\n",
    "for k, v in weekly_crypto_top20.items():\n",
    "    valid_tickers = set(v) - remove\n",
    "    t = pd.to_datetime(k) + pd.Timedelta(\"1min\")\n",
    "    if t <= pd.to_datetime(\"2023-01-01\"):\n",
    "        continue\n",
    "        \n",
    "    listed = list(binance_swaps_return.loc[t].dropna().index) # Check whether a swap is listed on Binance at the start of the week.\n",
    "    \n",
    "    valid_tickers_top10 = []\n",
    "    for ticker in v:\n",
    "        if ticker in valid_tickers and ticker in listed:\n",
    "            if ticker in name_changed.keys():\n",
    "                valid_tickers_top10.append(name_changed[ticker])\n",
    "            else:\n",
    "                valid_tickers_top10.append(ticker)\n",
    "    valid_tickers_top10 = valid_tickers_top10[:10]\n",
    "\n",
    "    testing_period = (t, t +  pd.Timedelta(\"10079min\"))\n",
    "    validation_period = (t - pd.Timedelta(\"10080min\"), t - pd.Timedelta(\"1min\"))\n",
    "    training_period = (t - pd.Timedelta(\"40320min\"), t - pd.Timedelta(\"10081min\"))\n",
    "    \n",
    "    setting_list.append([training_period, validation_period, testing_period, valid_tickers_top10])"
   ]
  },
  {
   "cell_type": "code",
   "execution_count": 21,
   "id": "c97638ee-aef0-41db-951b-e8a99d6cbb02",
   "metadata": {},
   "outputs": [],
   "source": [
    "tcn_result_dir = r\"result\\TCN_2023-12-15_23-45-27\"\n",
    "MPT_result_dir = r\"result\\MPT_2023-12-15_23-42-52\"\n",
    "RP_result_dir = r\"result\\RP_2023-12-15_23-07-40\""
   ]
  },
  {
   "cell_type": "code",
   "execution_count": 22,
   "id": "17a13fde-be73-4e4f-bb96-2c144e425418",
   "metadata": {},
   "outputs": [
    {
     "name": "stderr",
     "output_type": "stream",
     "text": [
      "C:\\Users\\andy8\\AppData\\Local\\Temp\\ipykernel_12556\\422942724.py:29: FutureWarning: The behavior of array concatenation with empty entries is deprecated. In a future version, this will no longer exclude empty items when determining the result dtype. To retain the old behavior, exclude the empty entries before the concat operation.\n",
      "  testing_return_series_tcn = pd.concat([testing_return_series_tcn, testing_return_tcn])\n",
      "C:\\Users\\andy8\\AppData\\Local\\Temp\\ipykernel_12556\\422942724.py:32: FutureWarning: The behavior of array concatenation with empty entries is deprecated. In a future version, this will no longer exclude empty items when determining the result dtype. To retain the old behavior, exclude the empty entries before the concat operation.\n",
      "  testing_return_series_mpt = pd.concat([testing_return_series_mpt, testing_return_mpt])\n"
     ]
    }
   ],
   "source": [
    "input_length = configs[\"portfolio_config\"][\"input_length\"]\n",
    "input_td = pd.Timedelta(f\"{input_length}min\")\n",
    "testing_return_series_tcn = pd.Series()\n",
    "testing_return_series_mpt = pd.Series()\n",
    "testing_return_series_rp = pd.Series()\n",
    "\n",
    "for setting in setting_list:\n",
    "    #Prepare data for each week\n",
    "    training_period, validation_period, testing_period, tickers = setting\n",
    "    training_return = binance_swaps_return[tickers].loc[training_period[0]-input_td:training_period[1]].fillna(0)\n",
    "    validation_return = binance_swaps_return[tickers].loc[validation_period[0]-input_td:validation_period[1]].fillna(0)\n",
    "    testing_return = binance_swaps_return[tickers].loc[testing_period[0]-input_td:testing_period[1]].fillna(0)\n",
    "    data_list = [training_return, validation_return]\n",
    "\n",
    "    tcn_model_dir = os.path.join(tcn_result_dir, testing_period[0].isoformat().replace(\":\", \"\") + \"_\" + testing_period[1].isoformat().replace(\":\", \"\"), \"TCN_best_set_params.pth\")\n",
    "    mpt_dir = os.path.join(MPT_result_dir, testing_period[0].isoformat().replace(\":\", \"\") + \"_\" + testing_period[1].isoformat().replace(\":\", \"\"), \"training_result.pkl\")\n",
    "    #rp_dir = os.path.join(RP_result_dir, testing_period[0].isoformat().replace(\":\", \"\") + \"_\" + testing_period[1].isoformat().replace(\":\", \"\"), \"training_result.pkl\")\n",
    "\n",
    "    nn_model = model.NNModel(data_list, configs, \"TCN\")\n",
    "    weight_tcn = nn_model.predict_weight(testing_return, tcn_model_dir)\n",
    "    \n",
    "    with open(mpt_dir, \"rb\") as input_file:\n",
    "        mpt_weight = pickle.load(input_file)\n",
    "\n",
    "    #with open(rp_dir, \"rb\") as input_file:\n",
    "    #    rp_weight = pickle.load(input_file)\n",
    "    \n",
    "    testing_return_tcn = (weight_tcn*testing_return.iloc[input_length:]).sum(axis=1)\n",
    "    testing_return_series_tcn = pd.concat([testing_return_series_tcn, testing_return_tcn])\n",
    "\n",
    "    testing_return_mpt = testing_return.mul(mpt_weight).sum(axis=1)\n",
    "    testing_return_series_mpt = pd.concat([testing_return_series_mpt, testing_return_mpt])\n",
    "    \n",
    "    #testing_return_rp = testing_return.mul(rp_weight).sum(axis=1)\n",
    "    #testing_return_series_rp = pd.concat([testing_return_series_rp, testing_return_rp])"
   ]
  },
  {
   "cell_type": "code",
   "execution_count": 23,
   "id": "00fd2804-801e-4b31-b807-f900f8cae47c",
   "metadata": {},
   "outputs": [
    {
     "data": {
      "text/plain": [
       "0.002051719843903289"
      ]
     },
     "execution_count": 23,
     "metadata": {},
     "output_type": "execute_result"
    }
   ],
   "source": [
    "testing_return_series_tcn.mean() / testing_return_series_tcn.std()"
   ]
  },
  {
   "cell_type": "code",
   "execution_count": 24,
   "id": "26f0ea55-d4af-4fb5-ae5d-37f921542430",
   "metadata": {},
   "outputs": [
    {
     "data": {
      "text/plain": [
       "4.052447858690029e-05"
      ]
     },
     "execution_count": 24,
     "metadata": {},
     "output_type": "execute_result"
    }
   ],
   "source": [
    "testing_return_series_mpt.mean() / testing_return_series_mpt.std()"
   ]
  },
  {
   "cell_type": "code",
   "execution_count": 11,
   "id": "c88ed11e-6a4e-49fd-88a0-cc28d4c3afa2",
   "metadata": {},
   "outputs": [
    {
     "data": {
      "text/plain": [
       "0.002188042249756712"
      ]
     },
     "execution_count": 11,
     "metadata": {},
     "output_type": "execute_result"
    }
   ],
   "source": [
    "testing_return_series_rp.mean() / testing_return_series_rp.std()"
   ]
  },
  {
   "cell_type": "code",
   "execution_count": 25,
   "id": "d3ec1b82-3b2c-413e-9762-220c1c4a358c",
   "metadata": {},
   "outputs": [
    {
     "data": {
      "text/plain": [
       "<Axes: >"
      ]
     },
     "execution_count": 25,
     "metadata": {},
     "output_type": "execute_result"
    },
    {
     "data": {
      "image/png": "[encoded data removed]",
      "text/plain": [
       "<Figure size 640x480 with 1 Axes>"
      ]
     },
     "metadata": {},
     "output_type": "display_data"
    }
   ],
   "source": [
    "testing_return_series_tcn.add(1).cumprod().plot()\n",
    "testing_return_series_mpt.add(1).cumprod().plot()"
   ]
  }
 ],
 "metadata": {
  "kernelspec": {
   "display_name": "Python 3 (ipykernel)",
   "language": "python",
   "name": "python3"
  },
  "language_info": {
   "codemirror_mode": {
    "name": "ipython",
    "version": 3
   },
   "file_extension": ".py",
   "mimetype": "text/x-python",
   "name": "python",
   "nbconvert_exporter": "python",
   "pygments_lexer": "ipython3",
   "version": "3.9.18"
  }
 },
 "nbformat": 4,
 "nbformat_minor": 5
}
