{
 "cells": [
  {
   "cell_type": "markdown",
   "metadata": {},
   "source": [
    "# Import Modules"
   ]
  },
  {
   "cell_type": "code",
   "execution_count": 1,
   "metadata": {},
   "outputs": [],
   "source": [
    "import os\n",
    "import random\n",
    "import pickle\n",
    "import importlib\n",
    "import argparse\n",
    "\n",
    "import numpy as np\n",
    "import pandas as pd\n",
    "import datetime\n",
    "import matplotlib.pyplot as plt\n",
    "import torch"
   ]
  },
  {
   "cell_type": "code",
   "execution_count": 2,
   "metadata": {},
   "outputs": [],
   "source": [
    "import config\n",
    "import model\n",
    "import utility\n",
    "\n",
    "if utility.is_notebook():\n",
    "    from tqdm.notebook import tqdm\n",
    "else:\n",
    "    from tqdm import tqdm"
   ]
  },
  {
   "cell_type": "markdown",
   "metadata": {},
   "source": [
    "# Set Random Seed"
   ]
  },
  {
   "cell_type": "code",
   "execution_count": 3,
   "metadata": {},
   "outputs": [],
   "source": [
    "def set_seed(seed):\n",
    "    torch.manual_seed(seed)\n",
    "    torch.cuda.manual_seed_all(seed)\n",
    "    np.random.seed(seed)\n",
    "    random.seed(seed)\n",
    "\n",
    "set_seed(42)"
   ]
  },
  {
   "cell_type": "markdown",
   "metadata": {},
   "source": [
    "# Parse configs"
   ]
  },
  {
   "cell_type": "code",
   "execution_count": 4,
   "metadata": {},
   "outputs": [],
   "source": [
    "configs = config.configs\n",
    "parser = argparse.ArgumentParser(description='Setting configs')\n",
    "utility.add_arguments(configs, parser)\n",
    "\n",
    "args, unknown = parser.parse_known_args()\n",
    "for arg in vars(args):\n",
    "    value = getattr(args, arg)\n",
    "    if value is not None:\n",
    "        keys = arg.split(\".\")\n",
    "        utility.nested_dict_update(value, configs, keys, indent=0)"
   ]
  },
  {
   "cell_type": "markdown",
   "metadata": {},
   "source": [
    "# Asset Pool\n",
    "- Original Pool: Among the top twenty cryptocurrencies by market capitalization, excluding CEX coins, stablecoins, and coins without perpetual contracts on Binance.\n",
    "- Selected Pool: Top ten cryptocurrencies by market capitalization in the original pool.  \n",
    "- Pools Update Frequency: Every Monday at 00:00 UTC+0.\n",
    "- Trading Target: Perpetual contracts on Binance for cryptocurrencies in the selected pool.\n",
    "- Data Resolution: **1 minute**"
   ]
  },
  {
   "cell_type": "code",
   "execution_count": 5,
   "metadata": {},
   "outputs": [],
   "source": [
    "#load data\n",
    "binance_swaps = pd.read_csv(os.path.join(\"data\", \"binance_swaps.csv\"), index_col=0)\n",
    "binance_swaps_return = (binance_swaps/binance_swaps.shift(1) - 1)[1:]\n",
    "binance_swaps_return.index = pd.to_datetime(binance_swaps_return.index)\n",
    "with open(os.path.join(\"data\", \"weekly_crypto_top20.pkl\"), 'rb') as f:\n",
    "    weekly_crypto_top20 = pickle.load(f)"
   ]
  },
  {
   "attachments": {},
   "cell_type": "markdown",
   "metadata": {},
   "source": [
    "# Backtesting Method\n",
    "- Rolling basis (walk forward optimization)\n",
    "- Training Period: t-40320 ~ t-10081 (30240 minutes or 21 days in total)\n",
    "- Validation Period: t-10080 ~ t-1 (10080 minutes or 7 days in total)\n",
    "- Testing Period: t ~ t+10079 (10080 minutes or 7 days in total)\n",
    "- t is the start of each week, i.e., 00:01 on Monday.\n",
    "\n",
    "![image.png](image/bt_flow.png)"
   ]
  },
  {
   "cell_type": "code",
   "execution_count": 6,
   "metadata": {},
   "outputs": [],
   "source": [
    "#Prepare training, validation, and testing periods and tickers for each week.\n",
    "stables = {\"BUSD\", \"USDC\", \"UST\", \"DAI\", \"TUSD\", \"USDT\"}\n",
    "cexs = {\"FTT\", \"BNB\", \"HT\", \"OKB\", \"CRO\", \"LEO\"}\n",
    "not_listed = {\"WBTC\", \"TON\"}\n",
    "name_changed = {\"SHIB\": \"1000SHIB\"}\n",
    "remove = stables | cexs | not_listed\n",
    "setting_list = []\n",
    "start_date = \"2023-01-01\"\n",
    "\n",
    "for k, v in weekly_crypto_top20.items():\n",
    "    valid_tickers = set(v) - remove\n",
    "    t = pd.to_datetime(k) + pd.Timedelta(\"1min\")\n",
    "    listed = list(binance_swaps_return.loc[t].dropna().index) # Check whether a swap is listed on Binance at the start of the week.\n",
    "    if t <= pd.to_datetime(start_date):\n",
    "        continue\n",
    "    valid_tickers_top10 = []\n",
    "    for ticker in v:\n",
    "        if ticker in valid_tickers and ticker in listed:\n",
    "            if ticker in name_changed.keys():\n",
    "                valid_tickers_top10.append(name_changed[ticker])\n",
    "            else:\n",
    "                valid_tickers_top10.append(ticker)\n",
    "    valid_tickers_top10 = valid_tickers_top10[:10]\n",
    "\n",
    "    testing_period = (t, t +  pd.Timedelta(\"10079min\"))\n",
    "    validation_period = (t - pd.Timedelta(\"10080min\"), t - pd.Timedelta(\"1min\"))\n",
    "    training_period = (t - pd.Timedelta(\"40320min\"), t - pd.Timedelta(\"10081min\"))\n",
    "    \n",
    "    setting_list.append([training_period, validation_period, testing_period, valid_tickers_top10])"
   ]
  },
  {
   "cell_type": "markdown",
   "metadata": {},
   "source": [
    "# Training"
   ]
  },
  {
   "cell_type": "code",
   "execution_count": 7,
   "metadata": {},
   "outputs": [],
   "source": [
    "# Create folder for saving\n",
    "utility.create_dir(configs[\"setting\"][\"save_dir\"])"
   ]
  },
  {
   "cell_type": "markdown",
   "metadata": {},
   "source": [
    "## TCN TODO: regen main.py, clean model.py, testing\n",
    "### Structure\n",
    "- Given $N$ assets, at timestamp $\\tau$, we takes the return time series ($N \\times L$) from $\\tau$ to $\\tau - L + 1$ as the model input, uses the model to predict the optimal asset weight $w_{\\tau}$ ($N \\times 1$), and holds or shorts the assets with this weight to timestamp $\\tau + 1$.\n",
    "- Here, we focus on having a long-short portfolio that is dollar-neutral. Therefore, the weight predicted needs to satisfy the following constraint:\n",
    "    - $\\sum_{i=1}^{N} |{w_{\\tau i}|} = 1, -1 \\le w_{\\tau i} \\le 1$\n",
    "    - $\\sum_{i=1}^{N} \\max(w_{\\tau i}, 0) + \\sum_{i=1}^{N} \\min(w_{\\tau i}, 0) = 0$\n",
    "\n",
    "![image.png](image/model.png)\n",
    "\n",
    "### Loss Function\n",
    "- The model aims to predict the weight of each crypto swap to maximize the Sharpe ratio at future timestamps. The loss function for updating model for this purpose is defined as follows:\n",
    "    - $R_{t} = \\sum_{i = 0}^{N-1}w_{i(t-1)}R_{it}$\n",
    "    - $E(R) = \\frac{1}{T}\\sum_{t=1}^{T}R_t$\n",
    "    - $Std(R) = \\frac{1}{T-1}\\sum_{t=1}^{T}[R_t - E(R)]^2$\n",
    "    - $Loss = -\\frac{E(R)}{Std(R)}$\n",
    "\n",
    "### Training Procedure\n",
    "- For a given hyperparameter set, the model with the best validation loss will be saved during training.\n",
    "- The hyperparameters are also tuned based on the best validation loss."
   ]
  },
  {
   "cell_type": "code",
   "execution_count": 8,
   "metadata": {},
   "outputs": [],
   "source": [
    "# Create folder for saving model training results\n",
    "timestamp = datetime.datetime.now().strftime(\"%Y-%m-%d_%H-%M-%S\")\n",
    "model_out_dir_root = os.path.join(configs[\"setting\"][\"save_dir\"], configs[\"portfolio_config\"][\"model\"] + f\"_{timestamp}\")\n",
    "utility.create_dir(model_out_dir_root)"
   ]
  },
  {
   "cell_type": "code",
   "execution_count": null,
   "metadata": {},
   "outputs": [
    {
     "name": "stdout",
     "output_type": "stream",
     "text": [
      "TRAINING:  2022-12-04 00:01:00 ~ 2022-12-25 00:00:00\n",
      "VALIDATION:  2022-12-25 00:01:00 ~ 2023-01-01 00:00:00\n"
     ]
    },
    {
     "data": {
      "application/vnd.jupyter.widget-view+json": {
       "model_id": "0cf3012a955d4697a87e45f5df15a105",
       "version_major": 2,
       "version_minor": 0
      },
      "text/plain": [
       "  0%|          | 0/256 [00:00<?, ?it/s]"
      ]
     },
     "metadata": {},
     "output_type": "display_data"
    },
    {
     "name": "stdout",
     "output_type": "stream",
     "text": [
      "TRAINING:  2022-12-11 00:01:00 ~ 2023-01-01 00:00:00\n",
      "VALIDATION:  2023-01-01 00:01:00 ~ 2023-01-08 00:00:00\n"
     ]
    },
    {
     "data": {
      "application/vnd.jupyter.widget-view+json": {
       "model_id": "8aa8d5abdaa74f16aaac57f82c200bf9",
       "version_major": 2,
       "version_minor": 0
      },
      "text/plain": [
       "  0%|          | 0/256 [00:00<?, ?it/s]"
      ]
     },
     "metadata": {},
     "output_type": "display_data"
    },
    {
     "name": "stdout",
     "output_type": "stream",
     "text": [
      "TRAINING:  2022-12-18 00:01:00 ~ 2023-01-08 00:00:00\n",
      "VALIDATION:  2023-01-08 00:01:00 ~ 2023-01-15 00:00:00\n"
     ]
    }
   ],
   "source": [
    "input_length = configs[\"portfolio_config\"][\"input_length\"]\n",
    "input_td = pd.Timedelta(f\"{input_length}min\")\n",
    "for setting in setting_list:\n",
    "    #Prepare data for each week\n",
    "    training_period, validation_period, testing_period, tickers = setting\n",
    "    training_return = binance_swaps_return[tickers].loc[training_period[0]-input_td:training_period[1]].fillna(0)\n",
    "    validation_return = binance_swaps_return[tickers].loc[validation_period[0]-input_td:validation_period[1]].fillna(0)\n",
    "    testing_return = binance_swaps_return[tickers].loc[testing_period[0]-input_td:testing_period[1]].fillna(0)\n",
    "    data_list = [training_return, validation_return]\n",
    "\n",
    "    model_out_dir = os.path.join(model_out_dir_root, testing_period[0].isoformat().replace(\":\", \"\") + \"_\" + testing_period[1].isoformat().replace(\":\", \"\"))\n",
    "    utility.create_dir(model_out_dir)\n",
    "    nn_model = model.NNModel(data_list, configs, \"TCN\", model_out_dir)\n",
    "    nn_model.training()"
   ]
  },
  {
   "cell_type": "markdown",
   "metadata": {},
   "source": [
    "## Modern Portfolio Theory (MPT)"
   ]
  },
  {
   "cell_type": "code",
   "execution_count": null,
   "metadata": {},
   "outputs": [],
   "source": [
    "# Create folder for saving model optimization results\n",
    "timestamp = datetime.datetime.now().strftime(\"%Y-%m-%d_%H-%M-%S\")\n",
    "model_out_dir_root = os.path.join(configs[\"setting\"][\"save_dir\"], \"MPT\" + f\"_{timestamp}\")\n",
    "utility.create_dir(model_out_dir_root)\n",
    "\n",
    "input_length = configs[\"portfolio_config\"][\"input_length\"]\n",
    "input_td = pd.Timedelta(f\"{input_length}min\")\n",
    "for setting in setting_list:\n",
    "    #Prepare data for each week\n",
    "    training_period, validation_period, testing_period, tickers = setting\n",
    "    training_return = binance_swaps_return[tickers].loc[training_period[0]-input_td:validation_period[1]].fillna(0)\n",
    "    validation_return = None #Validation is optional for traditional approaches.\n",
    "    data_list = [training_return, validation_return]\n",
    "\n",
    "    model_out_dir = os.path.join(model_out_dir_root, testing_period[0].isoformat().replace(\":\", \"\") + \"_\" + testing_period[1].isoformat().replace(\":\", \"\"))\n",
    "    utility.create_dir(model_out_dir)\n",
    "    mpt_model = model.Markowitz(data_list, configs, model_out_dir)\n",
    "    mpt_model.training()"
   ]
  }
 ],
 "metadata": {
  "kernelspec": {
   "display_name": "Python 3 (ipykernel)",
   "language": "python",
   "name": "python3"
  },
  "language_info": {
   "codemirror_mode": {
    "name": "ipython",
    "version": 3
   },
   "file_extension": ".py",
   "mimetype": "text/x-python",
   "name": "python",
   "nbconvert_exporter": "python",
   "pygments_lexer": "ipython3",
   "version": "3.9.18"
  }
 },
 "nbformat": 4,
 "nbformat_minor": 4
}
